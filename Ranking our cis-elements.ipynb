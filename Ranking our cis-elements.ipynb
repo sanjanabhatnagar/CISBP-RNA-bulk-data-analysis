{
 "cells": [
  {
   "cell_type": "code",
   "execution_count": null,
   "metadata": {},
   "outputs": [],
   "source": [
    "'''\n",
    "Ranking and sorting of Z-Scores (All elements - repressors and activators both cis-elements and barcodes).\n",
    "'''\n",
    "# Part1- Taking a chunk of bigger dataframe. Taking only the columns of the motifs which were found in my elements and then sorting in descending order.\n",
    "\n",
    "Unique_Motifs.append('7mer')\n",
    "st = r2[Unique_Motifs]\n",
    "sorted_frame = st.sort_values(by = Unq, ascending = False)\n",
    "sorted_frame.reset_index(drop=True, inplace=True)\n",
    "\n",
    "'''Can Sort the E-scores in a similar way'''\n",
    "\n",
    "# Part-2 Finding the 7-mers of interest and ranking.\n",
    "\n",
    "feat2 = sorted_frame.describe()\n",
    "UppQ_sort_df = feat2.loc['75%'] #This is similar to original dataframe's cutoffs\n",
    " \n",
    "'''\n",
    "All_elements = [*Repressors, *Activators]\n",
    "\n",
    "If had different repressor and activators list, use the statement above\n",
    "'''\n",
    "\n",
    "\n",
    "Ranking = {}\n",
    "\n",
    "for a in Cis_El:\n",
    "    Rep_motifs = []\n",
    "    for c in sorted_frame['7mer']:\n",
    "        if c in a:\n",
    "            z = (sorted_frame.loc[sorted_frame[sorted_frame['7mer']==c].index.values]).T\n",
    "            l=0\n",
    "            maxval = 0\n",
    "            while (l < 32):\n",
    "                if maxval < z.iloc[l].values:# Looking for the strongest motif match among all other motifs\n",
    "                    maxval = z.iloc[l].values\n",
    "                    Motifs_Ranks_Scores = pd.DataFrame(z.iloc[l])\n",
    "                l = l+1\n",
    "            Cis_Ek.append(Motifs_Ranks_Scores)\n",
    "    Ranking.update({a : Rep_motifs}) \n",
    "\n",
    "Ranki = pd.DataFrame.from_dict(Ranking, orient = 'index')\n",
    "#Ranki.to_csv('Ranked_Elements_ZScores.csv')\n",
    "\n",
    "\n"
   ]
  }
 ],
 "metadata": {
  "kernelspec": {
   "display_name": "Python 3",
   "language": "python",
   "name": "python3"
  },
  "language_info": {
   "codemirror_mode": {
    "name": "ipython",
    "version": 3
   },
   "file_extension": ".py",
   "mimetype": "text/x-python",
   "name": "python",
   "nbconvert_exporter": "python",
   "pygments_lexer": "ipython3",
   "version": "3.7.6"
  }
 },
 "nbformat": 4,
 "nbformat_minor": 2
}
